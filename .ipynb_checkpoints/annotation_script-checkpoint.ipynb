{
 "cells": [
  {
   "cell_type": "markdown",
   "id": "e9555fa0-513b-450e-bd60-c0c2675d85cb",
   "metadata": {},
   "source": [
    "# Annotations"
   ]
  },
  {
   "cell_type": "code",
   "execution_count": 1,
   "id": "2323eb72-c022-48ed-b5de-4e335129130f",
   "metadata": {},
   "outputs": [
    {
     "name": "stderr",
     "output_type": "stream",
     "text": [
      "WARNING: DirectWrite: CreateFontFaceFromHDC() failed (Indicates an error in an input file such as a font file.) for QFontDef(Family=\"\", pointsize=12, pixelsize=16, styleHint=5, weight=50, stretch=100, hintingPreference=0) LOGFONT(\"MS Sans Serif\", lfWidth=0, lfHeight=-16) dpi=96\n"
     ]
    }
   ],
   "source": [
    "import os\n",
    "import pathlib\n",
    "\n",
    "from pytorch_faster_rcnn_tutorial.utils import get_filenames_of_path\n",
    "from pytorch_faster_rcnn_tutorial.visual import Annotator\n",
    "\n",
    "directory = pathlib.Path('pytorch_faster_rcnn_tutorial/data/heads')\n",
    "image_files = get_filenames_of_path(directory / 'input')\n",
    "\n",
    "annotator = Annotator(image_ids=image_files)\n",
    "annotator.napari()"
   ]
  },
  {
   "cell_type": "markdown",
   "id": "e26ca027-b58e-4896-8da6-d0f1cc2f5254",
   "metadata": {},
   "source": [
    "## Add labels"
   ]
  },
  {
   "cell_type": "code",
   "execution_count": 4,
   "id": "5a3e394e-d49e-45b6-b854-acb8b908a26c",
   "metadata": {},
   "outputs": [],
   "source": [
    "annotator.add_class(label='head', color='red') # head"
   ]
  },
  {
   "cell_type": "code",
   "execution_count": 3,
   "id": "39fcd95f-60f9-4494-aa9b-5a18e1152f42",
   "metadata": {},
   "outputs": [],
   "source": [
    "annotator.add_class(label='eye', color='blue') # eye"
   ]
  },
  {
   "cell_type": "markdown",
   "id": "93616eb9-d9fd-44e6-857d-6a85acc47a9f",
   "metadata": {},
   "source": [
    "## Save the annotations of the current (shown) image"
   ]
  },
  {
   "cell_type": "code",
   "execution_count": 4,
   "id": "5a86ca25-f157-4a5b-b95b-8c4aed0c90ae",
   "metadata": {},
   "outputs": [
    {
     "name": "stdout",
     "output_type": "stream",
     "text": [
      "Annotation 005.json saved to /mnt/raid1/Python_projects/Zafrens_Image/exported_images\n"
     ]
    }
   ],
   "source": [
    "save_dir = pathlib.Path(os.getcwd()) / 'exported_images'\n",
    "save_dir.mkdir(parents=True, exist_ok=True)\n",
    "annotator.export(save_dir)"
   ]
  },
  {
   "cell_type": "markdown",
   "id": "870fb05a-03d4-4ebb-8bf4-c4c5e0109221",
   "metadata": {},
   "source": [
    "## Save all available annotations in one go"
   ]
  },
  {
   "cell_type": "code",
   "execution_count": 7,
   "id": "286f7083-6715-4ebc-80ac-aa515dd09bd2",
   "metadata": {},
   "outputs": [
    {
     "name": "stdout",
     "output_type": "stream",
     "text": [
      "Annotation 000.json saved to pytorch_faster_rcnn_tutorial\\data\\heads\\target\n",
      "Annotation 001.json saved to pytorch_faster_rcnn_tutorial\\data\\heads\\target\n",
      "pytorch_faster_rcnn_tutorial\\data\\heads\n",
      "pytorch_faster_rcnn_tutorial\\data\\heads\\target\n"
     ]
    }
   ],
   "source": [
    "#save_dir = pathlib.Path(os.getcwd()) / 'exported_images'\n",
    "save_dir = pathlib.Path(directory / 'target')\n",
    "save_dir.mkdir(parents=True, exist_ok=True)\n",
    "annotator.export_all(pathlib.Path(save_dir))\n",
    "#print(directory)\n",
    "#print(save_dir)"
   ]
  },
  {
   "cell_type": "code",
   "execution_count": 17,
   "id": "29a5a92a",
   "metadata": {},
   "outputs": [
    {
     "name": "stdout",
     "output_type": "stream",
     "text": [
      "[WindowsPath('pytorch_faster_rcnn_tutorial/data/heads/target/000.json'), WindowsPath('pytorch_faster_rcnn_tutorial/data/heads/target/001.json'), WindowsPath('pytorch_faster_rcnn_tutorial/data/heads/target/002.json'), WindowsPath('pytorch_faster_rcnn_tutorial/data/heads/target/003.json'), WindowsPath('pytorch_faster_rcnn_tutorial/data/heads/target/004.json'), WindowsPath('pytorch_faster_rcnn_tutorial/data/heads/target/005.json'), WindowsPath('pytorch_faster_rcnn_tutorial/data/heads/target/006.json'), WindowsPath('pytorch_faster_rcnn_tutorial/data/heads/target/007.json'), WindowsPath('pytorch_faster_rcnn_tutorial/data/heads/target/008.json'), WindowsPath('pytorch_faster_rcnn_tutorial/data/heads/target/009.json'), WindowsPath('pytorch_faster_rcnn_tutorial/data/heads/target/010.json'), WindowsPath('pytorch_faster_rcnn_tutorial/data/heads/target/011.json'), WindowsPath('pytorch_faster_rcnn_tutorial/data/heads/target/012.json'), WindowsPath('pytorch_faster_rcnn_tutorial/data/heads/target/013.json'), WindowsPath('pytorch_faster_rcnn_tutorial/data/heads/target/014.json'), WindowsPath('pytorch_faster_rcnn_tutorial/data/heads/target/015.json'), WindowsPath('pytorch_faster_rcnn_tutorial/data/heads/target/016.json'), WindowsPath('pytorch_faster_rcnn_tutorial/data/heads/target/017.json'), WindowsPath('pytorch_faster_rcnn_tutorial/data/heads/target/018.json'), WindowsPath('pytorch_faster_rcnn_tutorial/data/heads/target/019.json')]\n"
     ]
    },
    {
     "ename": "UnpicklingError",
     "evalue": "invalid load key, '{'.",
     "output_type": "error",
     "traceback": [
      "\u001b[1;31m---------------------------------------------------------------------------\u001b[0m",
      "\u001b[1;31mUnpicklingError\u001b[0m                           Traceback (most recent call last)",
      "\u001b[1;32m~\\AppData\\Local\\Temp/ipykernel_13948/3540906139.py\u001b[0m in \u001b[0;36m<module>\u001b[1;34m\u001b[0m\n\u001b[0;32m     14\u001b[0m }\n\u001b[0;32m     15\u001b[0m \u001b[1;33m\u001b[0m\u001b[0m\n\u001b[1;32m---> 16\u001b[1;33m \u001b[0mannotation\u001b[0m \u001b[1;33m=\u001b[0m \u001b[0mtorch\u001b[0m\u001b[1;33m.\u001b[0m\u001b[0mload\u001b[0m\u001b[1;33m(\u001b[0m\u001b[0mtargets\u001b[0m\u001b[1;33m[\u001b[0m\u001b[1;36m1\u001b[0m\u001b[1;33m]\u001b[0m\u001b[1;33m,\u001b[0m \u001b[0mmap_location\u001b[0m\u001b[1;33m=\u001b[0m\u001b[1;34m'CPU'\u001b[0m\u001b[1;33m)\u001b[0m\u001b[1;33m\u001b[0m\u001b[1;33m\u001b[0m\u001b[0m\n\u001b[0m\u001b[0;32m     17\u001b[0m \u001b[1;33m\u001b[0m\u001b[0m\n\u001b[0;32m     18\u001b[0m \u001b[0mprint\u001b[0m\u001b[1;33m(\u001b[0m\u001b[1;34mf'keys:\\n{annotation.keys()}\\n'\u001b[0m\u001b[1;33m)\u001b[0m\u001b[1;33m\u001b[0m\u001b[1;33m\u001b[0m\u001b[0m\n",
      "\u001b[1;32m~\\anaconda3\\envs\\images\\lib\\site-packages\\torch\\serialization.py\u001b[0m in \u001b[0;36mload\u001b[1;34m(f, map_location, pickle_module, **pickle_load_args)\u001b[0m\n\u001b[0;32m    606\u001b[0m                     \u001b[1;32mreturn\u001b[0m \u001b[0mtorch\u001b[0m\u001b[1;33m.\u001b[0m\u001b[0mjit\u001b[0m\u001b[1;33m.\u001b[0m\u001b[0mload\u001b[0m\u001b[1;33m(\u001b[0m\u001b[0mopened_file\u001b[0m\u001b[1;33m)\u001b[0m\u001b[1;33m\u001b[0m\u001b[1;33m\u001b[0m\u001b[0m\n\u001b[0;32m    607\u001b[0m                 \u001b[1;32mreturn\u001b[0m \u001b[0m_load\u001b[0m\u001b[1;33m(\u001b[0m\u001b[0mopened_zipfile\u001b[0m\u001b[1;33m,\u001b[0m \u001b[0mmap_location\u001b[0m\u001b[1;33m,\u001b[0m \u001b[0mpickle_module\u001b[0m\u001b[1;33m,\u001b[0m \u001b[1;33m**\u001b[0m\u001b[0mpickle_load_args\u001b[0m\u001b[1;33m)\u001b[0m\u001b[1;33m\u001b[0m\u001b[1;33m\u001b[0m\u001b[0m\n\u001b[1;32m--> 608\u001b[1;33m         \u001b[1;32mreturn\u001b[0m \u001b[0m_legacy_load\u001b[0m\u001b[1;33m(\u001b[0m\u001b[0mopened_file\u001b[0m\u001b[1;33m,\u001b[0m \u001b[0mmap_location\u001b[0m\u001b[1;33m,\u001b[0m \u001b[0mpickle_module\u001b[0m\u001b[1;33m,\u001b[0m \u001b[1;33m**\u001b[0m\u001b[0mpickle_load_args\u001b[0m\u001b[1;33m)\u001b[0m\u001b[1;33m\u001b[0m\u001b[1;33m\u001b[0m\u001b[0m\n\u001b[0m\u001b[0;32m    609\u001b[0m \u001b[1;33m\u001b[0m\u001b[0m\n\u001b[0;32m    610\u001b[0m \u001b[1;33m\u001b[0m\u001b[0m\n",
      "\u001b[1;32m~\\anaconda3\\envs\\images\\lib\\site-packages\\torch\\serialization.py\u001b[0m in \u001b[0;36m_legacy_load\u001b[1;34m(f, map_location, pickle_module, **pickle_load_args)\u001b[0m\n\u001b[0;32m    775\u001b[0m             \"functionality.\")\n\u001b[0;32m    776\u001b[0m \u001b[1;33m\u001b[0m\u001b[0m\n\u001b[1;32m--> 777\u001b[1;33m     \u001b[0mmagic_number\u001b[0m \u001b[1;33m=\u001b[0m \u001b[0mpickle_module\u001b[0m\u001b[1;33m.\u001b[0m\u001b[0mload\u001b[0m\u001b[1;33m(\u001b[0m\u001b[0mf\u001b[0m\u001b[1;33m,\u001b[0m \u001b[1;33m**\u001b[0m\u001b[0mpickle_load_args\u001b[0m\u001b[1;33m)\u001b[0m\u001b[1;33m\u001b[0m\u001b[1;33m\u001b[0m\u001b[0m\n\u001b[0m\u001b[0;32m    778\u001b[0m     \u001b[1;32mif\u001b[0m \u001b[0mmagic_number\u001b[0m \u001b[1;33m!=\u001b[0m \u001b[0mMAGIC_NUMBER\u001b[0m\u001b[1;33m:\u001b[0m\u001b[1;33m\u001b[0m\u001b[1;33m\u001b[0m\u001b[0m\n\u001b[0;32m    779\u001b[0m         \u001b[1;32mraise\u001b[0m \u001b[0mRuntimeError\u001b[0m\u001b[1;33m(\u001b[0m\u001b[1;34m\"Invalid magic number; corrupt file?\"\u001b[0m\u001b[1;33m)\u001b[0m\u001b[1;33m\u001b[0m\u001b[1;33m\u001b[0m\u001b[0m\n",
      "\u001b[1;31mUnpicklingError\u001b[0m: invalid load key, '{'."
     ]
    }
   ],
   "source": [
    "#import pathlib\n",
    "import torch\n",
    "#from pytorch_faster_rcnn_tutorial.utils import get_filenames_of_path\n",
    "\n",
    "root = pathlib.Path('pytorch_faster_rcnn_tutorial/data/heads')\n",
    "\n",
    "targets = get_filenames_of_path(root / 'target')\n",
    "targets.sort()\n",
    "print(targets)\n",
    "\n",
    "# mapping\n",
    "mapping = {\n",
    "    'head': 1,\n",
    "}\n",
    "\n",
    "annotation = torch.load(targets[1])\n",
    "\n",
    "print(f'keys:\\n{annotation.keys()}\\n')\n",
    "print(f'labels:\\n{annotation[\"labels\"]}\\n')\n",
    "print(f'labels:\\n{annotation[\"boxes\"]}\\n') "
   ]
  },
  {
   "cell_type": "code",
   "execution_count": null,
   "id": "55e8fdab",
   "metadata": {},
   "outputs": [],
   "source": []
  }
 ],
 "metadata": {
  "kernelspec": {
   "display_name": "Python 3 (ipykernel)",
   "language": "python",
   "name": "python3"
  },
  "language_info": {
   "codemirror_mode": {
    "name": "ipython",
    "version": 3
   },
   "file_extension": ".py",
   "mimetype": "text/x-python",
   "name": "python",
   "nbconvert_exporter": "python",
   "pygments_lexer": "ipython3",
   "version": "3.8.12"
  }
 },
 "nbformat": 4,
 "nbformat_minor": 5
}
