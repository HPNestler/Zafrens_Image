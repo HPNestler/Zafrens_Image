{
 "cells": [
  {
   "cell_type": "markdown",
   "id": "6dc85661-4112-48f0-b574-037e34c06613",
   "metadata": {},
   "source": [
    "# Rename downloaded files"
   ]
  },
  {
   "cell_type": "code",
   "execution_count": 1,
   "id": "6d4882fb-f088-44b5-804f-91057cf716cc",
   "metadata": {},
   "outputs": [
    {
     "name": "stdout",
     "output_type": "stream",
     "text": [
      "old: 000.jpg\n",
      "new: 000.jpg\n",
      "old: 001.jpg\n",
      "new: 001.jpg\n",
      "old: 002.jpg\n",
      "new: 002.jpg\n",
      "old: 003.png\n",
      "new: 003.png\n",
      "old: 004.jpg\n",
      "new: 004.jpg\n",
      "old: 005.jpg\n",
      "new: 005.jpg\n",
      "old: 006.jpg\n",
      "new: 006.jpg\n",
      "old: 007.jpg\n",
      "new: 007.jpg\n",
      "old: 008.jpg\n",
      "new: 008.jpg\n",
      "old: 009.jpg\n",
      "new: 009.jpg\n",
      "old: 010.jpg\n",
      "new: 010.jpg\n",
      "old: 011.jpg\n",
      "new: 011.jpg\n",
      "old: 012.jpg\n",
      "new: 012.jpg\n",
      "old: 013.jpg\n",
      "new: 013.jpg\n",
      "old: 014.jpg\n",
      "new: 014.jpg\n",
      "old: 015.jpg\n",
      "new: 015.jpg\n",
      "old: 016.jpg\n",
      "new: 016.jpg\n",
      "old: 017.jpg\n",
      "new: 017.jpg\n",
      "old: 018.jpg\n",
      "new: 018.jpg\n",
      "old: 019.jpg\n",
      "new: 019.jpg\n"
     ]
    }
   ],
   "source": [
    "# rename downloaded files\n",
    "import pathlib\n",
    "\n",
    "from pytorch_faster_rcnn_tutorial.utils import get_filenames_of_path\n",
    "\n",
    "root = pathlib.Path('pytorch_faster_rcnn_tutorial/data/heads')\n",
    "\n",
    "inputs = get_filenames_of_path(root / 'input')\n",
    "inputs.sort()\n",
    "\n",
    "\n",
    "for idx, path in enumerate(inputs):\n",
    "    old_name = path.stem\n",
    "    old_extension = path.suffix\n",
    "    dir = path.parent\n",
    "    new_name = str(idx).zfill(3) + old_extension\n",
    "    print(f'old: {old_name + old_extension}')\n",
    "    print(f'new: {new_name}')\n",
    "    path.rename(pathlib.Path(dir, new_name))"
   ]
  },
  {
   "cell_type": "code",
   "execution_count": null,
   "id": "f211a3f2",
   "metadata": {},
   "outputs": [],
   "source": []
  }
 ],
 "metadata": {
  "kernelspec": {
   "display_name": "Python 3 (ipykernel)",
   "language": "python",
   "name": "python3"
  },
  "language_info": {
   "codemirror_mode": {
    "name": "ipython",
    "version": 3
   },
   "file_extension": ".py",
   "mimetype": "text/x-python",
   "name": "python",
   "nbconvert_exporter": "python",
   "pygments_lexer": "ipython3",
   "version": "3.8.12"
  }
 },
 "nbformat": 4,
 "nbformat_minor": 5
}
